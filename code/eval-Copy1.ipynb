{
 "cells": [
  {
   "cell_type": "code",
   "execution_count": 1,
   "metadata": {
    "scrolled": true
   },
   "outputs": [
    {
     "name": "stderr",
     "output_type": "stream",
     "text": [
      "/opt/anaconda3/lib/python3.7/site-packages/tensorflow/python/framework/dtypes.py:523: FutureWarning: Passing (type, 1) or '1type' as a synonym of type is deprecated; in a future version of numpy, it will be understood as (type, (1,)) / '(1,)type'.\n",
      "  _np_qint8 = np.dtype([(\"qint8\", np.int8, 1)])\n",
      "/opt/anaconda3/lib/python3.7/site-packages/tensorflow/python/framework/dtypes.py:524: FutureWarning: Passing (type, 1) or '1type' as a synonym of type is deprecated; in a future version of numpy, it will be understood as (type, (1,)) / '(1,)type'.\n",
      "  _np_quint8 = np.dtype([(\"quint8\", np.uint8, 1)])\n",
      "/opt/anaconda3/lib/python3.7/site-packages/tensorflow/python/framework/dtypes.py:525: FutureWarning: Passing (type, 1) or '1type' as a synonym of type is deprecated; in a future version of numpy, it will be understood as (type, (1,)) / '(1,)type'.\n",
      "  _np_qint16 = np.dtype([(\"qint16\", np.int16, 1)])\n",
      "/opt/anaconda3/lib/python3.7/site-packages/tensorflow/python/framework/dtypes.py:526: FutureWarning: Passing (type, 1) or '1type' as a synonym of type is deprecated; in a future version of numpy, it will be understood as (type, (1,)) / '(1,)type'.\n",
      "  _np_quint16 = np.dtype([(\"quint16\", np.uint16, 1)])\n",
      "/opt/anaconda3/lib/python3.7/site-packages/tensorflow/python/framework/dtypes.py:527: FutureWarning: Passing (type, 1) or '1type' as a synonym of type is deprecated; in a future version of numpy, it will be understood as (type, (1,)) / '(1,)type'.\n",
      "  _np_qint32 = np.dtype([(\"qint32\", np.int32, 1)])\n",
      "/opt/anaconda3/lib/python3.7/site-packages/tensorflow/python/framework/dtypes.py:532: FutureWarning: Passing (type, 1) or '1type' as a synonym of type is deprecated; in a future version of numpy, it will be understood as (type, (1,)) / '(1,)type'.\n",
      "  np_resource = np.dtype([(\"resource\", np.ubyte, 1)])\n",
      "/opt/anaconda3/lib/python3.7/site-packages/tensorboard/compat/tensorflow_stub/dtypes.py:541: FutureWarning: Passing (type, 1) or '1type' as a synonym of type is deprecated; in a future version of numpy, it will be understood as (type, (1,)) / '(1,)type'.\n",
      "  _np_qint8 = np.dtype([(\"qint8\", np.int8, 1)])\n",
      "/opt/anaconda3/lib/python3.7/site-packages/tensorboard/compat/tensorflow_stub/dtypes.py:542: FutureWarning: Passing (type, 1) or '1type' as a synonym of type is deprecated; in a future version of numpy, it will be understood as (type, (1,)) / '(1,)type'.\n",
      "  _np_quint8 = np.dtype([(\"quint8\", np.uint8, 1)])\n",
      "/opt/anaconda3/lib/python3.7/site-packages/tensorboard/compat/tensorflow_stub/dtypes.py:543: FutureWarning: Passing (type, 1) or '1type' as a synonym of type is deprecated; in a future version of numpy, it will be understood as (type, (1,)) / '(1,)type'.\n",
      "  _np_qint16 = np.dtype([(\"qint16\", np.int16, 1)])\n",
      "/opt/anaconda3/lib/python3.7/site-packages/tensorboard/compat/tensorflow_stub/dtypes.py:544: FutureWarning: Passing (type, 1) or '1type' as a synonym of type is deprecated; in a future version of numpy, it will be understood as (type, (1,)) / '(1,)type'.\n",
      "  _np_quint16 = np.dtype([(\"quint16\", np.uint16, 1)])\n",
      "/opt/anaconda3/lib/python3.7/site-packages/tensorboard/compat/tensorflow_stub/dtypes.py:545: FutureWarning: Passing (type, 1) or '1type' as a synonym of type is deprecated; in a future version of numpy, it will be understood as (type, (1,)) / '(1,)type'.\n",
      "  _np_qint32 = np.dtype([(\"qint32\", np.int32, 1)])\n",
      "/opt/anaconda3/lib/python3.7/site-packages/tensorboard/compat/tensorflow_stub/dtypes.py:550: FutureWarning: Passing (type, 1) or '1type' as a synonym of type is deprecated; in a future version of numpy, it will be understood as (type, (1,)) / '(1,)type'.\n",
      "  np_resource = np.dtype([(\"resource\", np.ubyte, 1)])\n"
     ]
    }
   ],
   "source": [
    "import argparse\n",
    "import os\n",
    "from data import CIFAR10Dataset, Imagenet32Dataset\n",
    "from models.embedders import BERTEncoder, OneHotClassEmbedding, UnconditionalClassEmbedding, GPTEncoder\n",
    "import torch\n",
    "from models.cgan import CDCGAN_G, CDCGAN_D\n",
    "from torch.optim import lr_scheduler\n",
    "import time\n",
    "from tqdm import tqdm\n",
    "from tensorboardX import SummaryWriter\n",
    "import numpy as np\n",
    "import torchvision.utils as vutils"
   ]
  },
  {
   "cell_type": "code",
   "execution_count": 3,
   "metadata": {},
   "outputs": [],
   "source": [
    "%reload_ext autoreload\n",
    "%autoreload 2\n",
    "from utils.evalutils import sample_image, sample_final, load_model, sample_for_inception\n",
    "from inception import inception_score"
   ]
  },
  {
   "cell_type": "markdown",
   "metadata": {},
   "source": [
    "# Setup"
   ]
  },
  {
   "cell_type": "code",
   "execution_count": 5,
   "metadata": {},
   "outputs": [],
   "source": [
    "# setting params\n",
    "batch_size = 32\n",
    "use_cuda = 1\n",
    "n_filters=128\n",
    "z_dim=100\n",
    "output_dir=\"outputs/cgan_cifar10\"\n",
    "model_checkpoint=\"outputs/cgan_cifar10/models/epoch_81.pt\"\n",
    "print_every=10\n",
    "dataset=\"cifar10\"\n",
    "conditioning=\"bert\"\n",
    "device = torch.device(\"cuda\") if (torch.cuda.is_available() and use_cuda) else torch.device(\"cpu\")\n",
    "# n_epochs =150\n",
    "# lr=0.0001\n",
    "# lr_decay=0.99\n",
    "# n_cpu=8\n",
    "# sample_interval=100\n",
    "# eval_dir = \"outputs/cgan_cifar10/eval\"\n",
    "# debug=0\n",
    "# train_on_val=0\n",
    "# train=1\n",
    "#choices=[\"unconditional\", \"one-hot\", \"bert\", \"gpt\"]\n",
    "# setup device"
   ]
  },
  {
   "cell_type": "code",
   "execution_count": 6,
   "metadata": {},
   "outputs": [
    {
     "name": "stdout",
     "output_type": "stream",
     "text": [
      "Device is cuda\n"
     ]
    }
   ],
   "source": [
    "print(\"Device is {}\".format(device))"
   ]
  },
  {
   "cell_type": "code",
   "execution_count": 7,
   "metadata": {},
   "outputs": [
    {
     "name": "stdout",
     "output_type": "stream",
     "text": [
      "loading data file 1/1, datasets/ImageNet32/val/val_data.npz\n",
      "Files already downloaded and verified\n"
     ]
    }
   ],
   "source": [
    "# Imagenet and CIFAR dataloaders\n",
    "imagenet_dataset = Imagenet32Dataset(train=0, max_size=-1)\n",
    "cifar_dataset = CIFAR10Dataset(train=0, max_size=-1)\n",
    "imagenet_val_dataloader = torch.utils.data.DataLoader(\n",
    "    imagenet_dataset,\n",
    "    batch_size,\n",
    "    shuffle=True,\n",
    "    drop_last=True\n",
    ")\n",
    "cifar_val_dataloader = torch.utils.data.DataLoader(\n",
    "    cifar_dataset,\n",
    "    batch_size,\n",
    "    shuffle=True,\n",
    "    drop_last=True\n",
    ")"
   ]
  },
  {
   "cell_type": "code",
   "execution_count": 8,
   "metadata": {
    "scrolled": true
   },
   "outputs": [
    {
     "data": {
      "text/plain": [
       "1562"
      ]
     },
     "execution_count": 8,
     "metadata": {},
     "output_type": "execute_result"
    }
   ],
   "source": [
    "# check len\n",
    "len(imagenet_val_dataloader)"
   ]
  },
  {
   "cell_type": "code",
   "execution_count": 9,
   "metadata": {},
   "outputs": [
    {
     "data": {
      "text/plain": [
       "312"
      ]
     },
     "execution_count": 9,
     "metadata": {},
     "output_type": "execute_result"
    }
   ],
   "source": [
    "len(cifar_val_dataloader)"
   ]
  },
  {
   "cell_type": "code",
   "execution_count": 10,
   "metadata": {},
   "outputs": [],
   "source": [
    "# Initialize embedder\n",
    "unconditional_encoder = UnconditionalClassEmbedding()\n",
    "bert_encoder = BERTEncoder()\n",
    "gpt_encoder = GPTEncoder()"
   ]
  },
  {
   "cell_type": "markdown",
   "metadata": {},
   "source": [
    "# Initialize models"
   ]
  },
  {
   "cell_type": "code",
   "execution_count": 11,
   "metadata": {},
   "outputs": [],
   "source": [
    "# init generator model\n",
    "# model_G = CDCGAN_G(z_dim=z_dim, embed_dim=768, n_filters=n_filters)\n",
    "model_G_cifar10_baseline = CDCGAN_G(z_dim=z_dim, embed_dim=768, n_filters=n_filters)\n",
    "model_G_imagenet_baseline = CDCGAN_G(z_dim=z_dim, embed_dim=768, n_filters=n_filters)\n",
    "model_G_cifar10_gpt = CDCGAN_G(z_dim=z_dim, embed_dim=768, n_filters=n_filters)\n",
    "model_G_cifar10_gptsigmoid = CDCGAN_G(z_dim=z_dim, embed_dim=768, n_filters=n_filters)\n",
    "model_G_cifar10_wgan = CDCGAN_G(z_dim=z_dim, embed_dim=768, n_filters=n_filters)\n",
    "# model_G.weight_init(mean=0.0, std=0.02)\n",
    "# model_G = model_G.to(device)\n",
    "# state_dict = torch.load(model_checkpoint, map_location=torch.device('cpu'))['G']"
   ]
  },
  {
   "cell_type": "code",
   "execution_count": 12,
   "metadata": {},
   "outputs": [],
   "source": [
    "# model checkpoints\n",
    "cgan_cifar10_baseline = \"outputs/cgan_cifar10/models\"\n",
    "cgan_imagenet_baseline = \"outputs/cgan_imagenet/models\"\n",
    "cgan_cifar10_gpt = \"outputs/cgan_gpt/models\"\n",
    "cgan_cifar10_gptsigmoid = \"outputs/cgan_gpt_sigmoid/models\"\n",
    "cgan_cifar10_wgan = \"outputs/wcgan_cifar10/models\""
   ]
  },
  {
   "cell_type": "markdown",
   "metadata": {},
   "source": [
    "# Sample images from most trained model"
   ]
  },
  {
   "cell_type": "code",
   "execution_count": 55,
   "metadata": {},
   "outputs": [
    {
     "name": "stdout",
     "output_type": "stream",
     "text": [
      "saved  outputs/cgan_cifar10/samples/final_sample\n"
     ]
    }
   ],
   "source": [
    "# sample images: baseline CIFAR\n",
    "model_checkpoint = os.path.join(cgan_cifar10_baseline, \"epoch_\" + str(81) + \".pt\")\n",
    "load_model(model_checkpoint, model_G_cifar10_baseline, torch.device('cpu'))\n",
    "sample_final(model_G_cifar10_baseline, bert_encoder, \"outputs/cgan_cifar10\",\n",
    "             n_row=4, dataloader=cifar_val_dataloader, device=device)"
   ]
  },
  {
   "cell_type": "code",
   "execution_count": 56,
   "metadata": {},
   "outputs": [
    {
     "name": "stdout",
     "output_type": "stream",
     "text": [
      "saved  outputs/cgan_imagenet/samples/final_sample\n"
     ]
    }
   ],
   "source": [
    "# sample images: basline imagenet\n",
    "model_checkpoint = os.path.join(cgan_imagenet_baseline, \"epoch_\" + str(7) + \".pt\")\n",
    "load_model(model_checkpoint, model_G_imagenet_baseline, torch.device('cpu'))\n",
    "sample_final(model_G_imagenet_baseline, bert_encoder, \"outputs/cgan_imagenet\",\n",
    "             n_row=4, dataloader=imagenet_val_dataloader, device=device)"
   ]
  },
  {
   "cell_type": "code",
   "execution_count": 60,
   "metadata": {},
   "outputs": [
    {
     "name": "stderr",
     "output_type": "stream",
     "text": [
      "/opt/anaconda3/lib/python3.7/site-packages/torch/nn/functional.py:1339: UserWarning: nn.functional.tanh is deprecated. Use torch.tanh instead.\n",
      "  warnings.warn(\"nn.functional.tanh is deprecated. Use torch.tanh instead.\")\n"
     ]
    },
    {
     "name": "stdout",
     "output_type": "stream",
     "text": [
      "saved  outputs/cgan_gpt/samples/final_sample\n"
     ]
    }
   ],
   "source": [
    "# sample images: CIFAR GPT\n",
    "model_checkpoint = os.path.join(cgan_cifar10_gpt, \"epoch_\" + str(99) + \".pt\")\n",
    "load_model(model_checkpoint, model_G_cifar10_gpt, torch.device('cpu'))\n",
    "sample_final(model_G_cifar10_gpt, gpt_encoder, \"outputs/cgan_gpt\",\n",
    "             n_row=4, dataloader=cifar_val_dataloader, device=device)"
   ]
  },
  {
   "cell_type": "code",
   "execution_count": 58,
   "metadata": {},
   "outputs": [
    {
     "name": "stdout",
     "output_type": "stream",
     "text": [
      "saved  outputs/cgan_gpt_sigmoid/samples/final_sample\n"
     ]
    }
   ],
   "source": [
    "# sample images: CIFAR GPT with sigmoid\n",
    "model_checkpoint = os.path.join(cgan_cifar10_gptsigmoid, \"epoch_\" + str(52) + \".pt\")\n",
    "load_model(model_checkpoint, model_G_cifar10_gptsigmoid, torch.device('cpu'))\n",
    "sample_final(model_G_cifar10_gptsigmoid, gpt_encoder, \"outputs/cgan_gpt_sigmoid\",\n",
    "             n_row=4, dataloader=cifar_val_dataloader, device=device)"
   ]
  },
  {
   "cell_type": "code",
   "execution_count": 65,
   "metadata": {},
   "outputs": [
    {
     "name": "stdout",
     "output_type": "stream",
     "text": [
      "saved  outputs/wcgan_cifar10/samples/final_sample\n"
     ]
    }
   ],
   "source": [
    "# sample images: WCGAN CIFAR\n",
    "model_checkpoint = os.path.join(cgan_cifar10_wgan, \"epoch_\" + str(92) + \".pt\")\n",
    "load_model(model_checkpoint, model_G_cifar10_wgan, torch.device('cpu'))\n",
    "sample_final(model_G_cifar10_wgan, bert_encoder, \"outputs/wcgan_cifar10\",\n",
    "             n_row=4, dataloader=cifar_val_dataloader, device=device)"
   ]
  },
  {
   "cell_type": "markdown",
   "metadata": {},
   "source": [
    "# Sample Images for Tier 2 Captions"
   ]
  },
  {
   "cell_type": "code",
   "execution_count": 60,
   "metadata": {},
   "outputs": [],
   "source": [
    "def sample_final_test(model, encoder, output_image_dir, n_row, dataloader, device):\n",
    "    \"\"\"Saves single of generated imagenet pictures with caption\"\"\"\n",
    "    target_dir = os.path.join(output_image_dir, \"samples/\")\n",
    "    if not os.path.isdir(target_dir):\n",
    "        os.makedirs(target_dir)\n",
    "\n",
    "    captions = []\n",
    "    gen_imgs = []\n",
    "    # get sample captions\n",
    "    done = False\n",
    "    while not done:\n",
    "        for (_, labels_batch, captions_batch) in dataloader:\n",
    "            captions += captions_batch\n",
    "            print(labels_batch)\n",
    "            print(captions_batch)\n",
    "            conditional_embeddings = encoder(labels_batch.to(device), captions)\n",
    "            imgs = model.sample(conditional_embeddings).cpu()\n",
    "            gen_imgs.append(imgs)\n",
    "\n",
    "            if len(captions) > n_row ** 2:\n",
    "                done = True\n",
    "                break\n",
    "\n",
    "    gen_imgs = torch.cat(gen_imgs).numpy()\n",
    "    gen_imgs = np.clip(gen_imgs, 0, 1)\n",
    "\n",
    "    fig = plt.figure(figsize=((8, 8)))\n",
    "    grid = ImageGrid(fig, 111, nrows_ncols=(n_row, n_row), axes_pad=0.2)\n",
    "\n",
    "    for i in range(n_row ** 2):\n",
    "        grid[i].imshow(gen_imgs[i].transpose([1, 2, 0]))\n",
    "        grid[i].set_title(captions[i])\n",
    "        grid[i].tick_params(axis='both', which='both', bottom=False, top=False, labelbottom=True)\n",
    "\n",
    "#     save_file = os.path.join(target_dir, \"final_sample\")\n",
    "#     plt.savefig(save_file)\n",
    "#     print(\"saved  {}\".format(save_file))\n",
    "#     plt.close()"
   ]
  },
  {
   "cell_type": "code",
   "execution_count": 61,
   "metadata": {},
   "outputs": [
    {
     "name": "stdout",
     "output_type": "stream",
     "text": [
      "tensor([635, 663, 490, 283, 708,  73, 454, 778, 243, 775, 330, 786, 361, 664,\n",
      "         51, 285, 802,  98, 578, 183, 792, 830, 503,  33, 634, 526, 116, 406,\n",
      "        198, 440, 108, 386])\n",
      "('cicada', 'toaster', 'horned viper', 'moving van', 'shoe shop', 'mongoose', 'puffer', 'bottlecap', 'liner', 'ski mask', 'corn', 'holster', 'volcano', 'waffle iron', 'bighorn', 'recreational vehicle', 'menu', 'Japanese spaniel', 'disk brake', 'kelpie', 'trifle', 'wine bottle', 'paintbrush', 'hyena', 'mantis', 'parking meter', 'Irish water spaniel', 'partridge', 'Madagascar cat', 'albatross', 'Scotch terrier', 'goldfinch')\n"
     ]
    },
    {
     "data": {
      "image/png": "[encoded data removed]",
      "text/plain": [
       "<Figure size 576x576 with 32 Axes>"
      ]
     },
     "metadata": {
      "needs_background": "light"
     },
     "output_type": "display_data"
    }
   ],
   "source": [
    "# sample images: baseline CIFAR\n",
    "model_checkpoint = os.path.join(cgan_imagenet_baseline, \"epoch_\" + str(7) + \".pt\")\n",
    "load_model(model_checkpoint, model_G_imagenet_baseline, torch.device('cpu'))\n",
    "sample_final_test(model_G_imagenet_baseline, bert_encoder, \"outputs/cgan_imagenet/\",\n",
    "             n_row=4, dataloader=imagenet_val_dataloader, device=device)"
   ]
  },
  {
   "cell_type": "code",
   "execution_count": 79,
   "metadata": {},
   "outputs": [],
   "source": [
    "import random\n",
    "import matplotlib.pyplot as plt\n",
    "from mpl_toolkits.axes_grid1 import ImageGrid\n",
    "def load_vocab_imagenet(vocab_file):\n",
    "    vocab = {}\n",
    "    with open(vocab_file) as f:\n",
    "        for l in f.readlines():\n",
    "            _, id, name = l[:-1].split(\" \")\n",
    "            vocab[int(id) - 1] = name.replace(\"_\", \" \")\n",
    "    return vocab\n",
    "    \n",
    "def sample_final_tier2(model, encoder, output_image_dir, n_row, caption_file, device):\n",
    "    \"\"\"Saves single of generated imagenet pictures with caption\"\"\"\n",
    "    target_dir = os.path.join(output_image_dir, \"samples/\")\n",
    "    if not os.path.isdir(target_dir):\n",
    "        os.makedirs(target_dir)\n",
    "\n",
    "    captions = []\n",
    "    gen_imgs = []\n",
    "    # get sample captions\n",
    "    done = False\n",
    "    while not done:\n",
    "        label_to_caption_dict = load_vocab_imagenet(caption_file)\n",
    "        label, caption = random.choice(list(label_to_caption_dict.items()))\n",
    "        label = torch.IntTensor([label])\n",
    "        caption = tuple([caption])\n",
    "        print(label)\n",
    "        print(caption)\n",
    "        captions += caption\n",
    "        conditional_embeddings = encoder(label.to(device), captions)\n",
    "        imgs = model.sample(conditional_embeddings).cpu()\n",
    "        gen_imgs.append(imgs)\n",
    "\n",
    "        if len(captions) > n_row ** 2:\n",
    "            done = True\n",
    "\n",
    "    gen_imgs = torch.cat(gen_imgs).numpy()\n",
    "    gen_imgs = np.clip(gen_imgs, 0, 1)\n",
    "\n",
    "    fig = plt.figure(figsize=((8, 8)))\n",
    "    grid = ImageGrid(fig, 111, nrows_ncols=(n_row, n_row), axes_pad=0.2)\n",
    "\n",
    "    for i in range(n_row ** 2):\n",
    "        grid[i].imshow(gen_imgs[i].transpose([1, 2, 0]))\n",
    "        grid[i].set_title(captions[i])\n",
    "        grid[i].tick_params(axis='both', which='both', bottom=False, top=False, labelbottom=True)\n",
    "\n",
    "    save_file = os.path.join(target_dir, \"final_sample_tier2\")\n",
    "    plt.savefig(save_file)\n",
    "    print(\"saved  {}\".format(save_file))\n",
    "    plt.close()"
   ]
  },
  {
   "cell_type": "code",
   "execution_count": 82,
   "metadata": {},
   "outputs": [
    {
     "name": "stdout",
     "output_type": "stream",
     "text": [
      "tensor([527], dtype=torch.int32)\n",
      "('watch',)\n",
      "tensor([353], dtype=torch.int32)\n",
      "('single-reed instrument',)\n",
      "tensor([995], dtype=torch.int32)\n",
      "('eraser',)\n",
      "tensor([91], dtype=torch.int32)\n",
      "('Belgian sheepdog',)\n",
      "tensor([789], dtype=torch.int32)\n",
      "('puzzle',)\n",
      "tensor([230], dtype=torch.int32)\n",
      "('lighter-than-air craft',)\n",
      "tensor([356], dtype=torch.int32)\n",
      "(\"lady's slipper\",)\n",
      "tensor([145], dtype=torch.int32)\n",
      "('swine',)\n",
      "tensor([144], dtype=torch.int32)\n",
      "('retriever',)\n",
      "tensor([485], dtype=torch.int32)\n",
      "('python',)\n",
      "tensor([238], dtype=torch.int32)\n",
      "('small boat',)\n",
      "tensor([801], dtype=torch.int32)\n",
      "('fare',)\n",
      "tensor([860], dtype=torch.int32)\n",
      "('pen',)\n",
      "tensor([808], dtype=torch.int32)\n",
      "('cream',)\n",
      "tensor([93], dtype=torch.int32)\n",
      "('domestic cat',)\n",
      "tensor([754], dtype=torch.int32)\n",
      "('ball',)\n",
      "tensor([577], dtype=torch.int32)\n",
      "('hydraulic brake',)\n",
      "saved  outputs/cgan_imagenet/samples/final_sample_tier2\n"
     ]
    }
   ],
   "source": [
    "# sample images: baseline CIFAR\n",
    "model_checkpoint = os.path.join(cgan_imagenet_baseline, \"epoch_\" + str(7) + \".pt\")\n",
    "load_model(model_checkpoint, model_G_imagenet_baseline, torch.device('cpu'))\n",
    "sample_final_tier2(model_G_imagenet_baseline, bert_encoder, \"outputs/cgan_imagenet/\",\n",
    "             n_row=4, caption_file=\"map_clsloc2.txt\", device=device)"
   ]
  },
  {
   "cell_type": "markdown",
   "metadata": {},
   "source": [
    "# Calculate inception score for true data\n",
    "(9.562877186875763, 0.0)"
   ]
  },
  {
   "cell_type": "code",
   "execution_count": 47,
   "metadata": {},
   "outputs": [],
   "source": [
    "cifar_val_dataloader = torch.utils.data.DataLoader(\n",
    "    cifar_dataset,\n",
    "    100,\n",
    "    shuffle=True,\n",
    "    drop_last=True\n",
    ")\n",
    "imgs = [img for (img, labels_batch, captions_batch) in cifar_val_dataloader][0].numpy()"
   ]
  },
  {
   "cell_type": "code",
   "execution_count": 48,
   "metadata": {
    "scrolled": true
   },
   "outputs": [
    {
     "data": {
      "text/plain": [
       "(9.562877186875763, 0.0)"
      ]
     },
     "execution_count": 48,
     "metadata": {},
     "output_type": "execute_result"
    }
   ],
   "source": [
    "inception_score(imgs, resize = True)"
   ]
  },
  {
   "cell_type": "markdown",
   "metadata": {},
   "source": [
    "# Inception score for our models"
   ]
  },
  {
   "cell_type": "code",
   "execution_count": 88,
   "metadata": {},
   "outputs": [
    {
     "data": {
      "text/plain": [
       "(3.1198449444290364, 0.0)"
      ]
     },
     "execution_count": 88,
     "metadata": {},
     "output_type": "execute_result"
    }
   ],
   "source": [
    "# GPT\n",
    "imgs_gpt = sample_for_inception(model_G_cifar10_gpt, gpt_encoder, \n",
    "                     100, dataloader=cifar_val_dataloader, device=device)\n",
    "inception_score(imgs_gpt, resize = True)\n",
    "# (3.1605518320034443, 0.0)\n",
    "# size of imgs is (320,3,32,32)"
   ]
  },
  {
   "cell_type": "code",
   "execution_count": 89,
   "metadata": {},
   "outputs": [
    {
     "data": {
      "text/plain": [
       "(1.0715794752322483, 0.0)"
      ]
     },
     "execution_count": 89,
     "metadata": {},
     "output_type": "execute_result"
    }
   ],
   "source": [
    "# baseline\n",
    "imgs_baseline = sample_for_inception(model_G_cifar10_baseline, bert_encoder, \n",
    "                     100, dataloader=cifar_val_dataloader, device=device)\n",
    "inception_score(imgs_baseline, resize = True)\n",
    "# (1.064679586315566, 0.0)"
   ]
  },
  {
   "cell_type": "code",
   "execution_count": 90,
   "metadata": {},
   "outputs": [
    {
     "data": {
      "text/plain": [
       "(1.0877044733992305, 0.0)"
      ]
     },
     "execution_count": 90,
     "metadata": {},
     "output_type": "execute_result"
    }
   ],
   "source": [
    "# wcgan\n",
    "imgs_wcgan = sample_for_inception(model_G_cifar10_wgan, bert_encoder, \n",
    "                     100, dataloader=cifar_val_dataloader, device=device)\n",
    "inception_score(imgs_wcgan, resize = True)"
   ]
  },
  {
   "cell_type": "markdown",
   "metadata": {},
   "source": [
    "# Create real and fake images for FID Score"
   ]
  },
  {
   "cell_type": "code",
   "execution_count": 83,
   "metadata": {},
   "outputs": [
    {
     "data": {
      "text/plain": [
       "array([[[0.5228108 , 0.6939594 , 0.5351386 , ..., 0.735228  ,\n",
       "         0.2523691 , 0.5607018 ],\n",
       "        [0.8615374 , 0.9693105 , 0.74308896, ..., 0.79608357,\n",
       "         0.34914017, 0.5783725 ],\n",
       "        [0.67001426, 0.89604205, 0.4261232 , ..., 0.4967537 ,\n",
       "         0.7530116 , 0.49361792],\n",
       "        ...,\n",
       "        [0.8692702 , 0.9874172 , 0.91087985, ..., 0.8804177 ,\n",
       "         0.43202895, 0.78710884],\n",
       "        [0.40895346, 0.85565776, 0.16632816, ..., 0.2758714 ,\n",
       "         0.753099  , 0.1837419 ],\n",
       "        [0.55043167, 0.61324185, 0.6027001 , ..., 0.50873566,\n",
       "         0.68758345, 0.5578531 ]],\n",
       "\n",
       "       [[0.5200427 , 0.8671185 , 0.19768423, ..., 0.4898375 ,\n",
       "         0.45364502, 0.54957724],\n",
       "        [0.44253767, 0.99113196, 0.2342307 , ..., 0.9489236 ,\n",
       "         0.73177904, 0.7370488 ],\n",
       "        [0.6669082 , 0.94415325, 0.47635567, ..., 0.94926786,\n",
       "         0.85837674, 0.55078745],\n",
       "        ...,\n",
       "        [0.77550626, 0.81867766, 0.8552655 , ..., 0.9743167 ,\n",
       "         0.65415   , 0.62764055],\n",
       "        [0.6186003 , 0.9135357 , 0.98757297, ..., 0.7678298 ,\n",
       "         0.7290118 , 0.4703262 ],\n",
       "        [0.60271895, 0.66370064, 0.79429233, ..., 0.5262089 ,\n",
       "         0.2770155 , 0.5557442 ]],\n",
       "\n",
       "       [[0.5723009 , 0.6424714 , 0.37682635, ..., 0.721744  ,\n",
       "         0.29009876, 0.61233824],\n",
       "        [0.46874   , 0.7510224 , 0.5043808 , ..., 0.8280684 ,\n",
       "         0.85379577, 0.6494475 ],\n",
       "        [0.7749521 , 0.97129405, 0.16038054, ..., 0.8477868 ,\n",
       "         0.09418115, 0.77167815],\n",
       "        ...,\n",
       "        [0.51867026, 0.92260814, 0.38441163, ..., 0.6760128 ,\n",
       "         0.9192997 , 0.70694417],\n",
       "        [0.579198  , 0.55631495, 0.2889013 , ..., 0.9721466 ,\n",
       "         0.69307   , 0.72119373],\n",
       "        [0.56228405, 0.70361567, 0.34833747, ..., 0.8525306 ,\n",
       "         0.7528462 , 0.6134121 ]]], dtype=float32)"
      ]
     },
     "execution_count": 83,
     "metadata": {},
     "output_type": "execute_result"
    }
   ],
   "source": [
    "imgs_gpt = torch.from_numpy(imgs_gpt)\n",
    "for i in range(10):\n",
    "    utils.save_image(torch.from_numpy(imgs)[i,:,:,:], 'outputs/cgan_cifar10/fid/fake/{}.png'.format(i))"
   ]
  },
  {
   "cell_type": "code",
   "execution_count": 87,
   "metadata": {},
   "outputs": [],
   "source": [
    "for i in range(10):\n",
    "    utils.save_image(torch.from_numpy(imgs)[i,:,:,:], 'outputs/cgan_cifar10/fid/fake/{}.png'.format(i))"
   ]
  }
 ],
 "metadata": {
  "kernelspec": {
   "display_name": "Python 3",
   "language": "python",
   "name": "python3"
  },
  "language_info": {
   "codemirror_mode": {
    "name": "ipython",
    "version": 3
   },
   "file_extension": ".py",
   "mimetype": "text/x-python",
   "name": "python",
   "nbconvert_exporter": "python",
   "pygments_lexer": "ipython3",
   "version": "3.7.4"
  }
 },
 "nbformat": 4,
 "nbformat_minor": 2
}
